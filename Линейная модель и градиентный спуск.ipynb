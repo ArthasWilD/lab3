{
  "cells": [
    {
      "cell_type": "markdown",
      "id": "985989a6-a2fd-4902-90d1-488f0d66eef0",
      "metadata": {
        "id": "985989a6-a2fd-4902-90d1-488f0d66eef0"
      },
      "source": [
        "## Линейная модель\n",
        "\n",
        "Линейная модель - это математическая модель, используемая в машинном обучении для предсказания значений на основе линейной комбинации входных признаков. Она предполагает, что выходное значение (прогноз) можно выразить как взвешенную сумму входных признаков с добавлением смещения (bias). Математически это можно записать следующим образом:\n",
        "\n",
        "\n",
        "$\\hat{y} = w_1x_1 + w_2x_2 + \\ldots + w_nx_n + b$\n",
        "\n",
        "где:\n",
        "- $\\hat{y}$ - прогнозируемое значение,\n",
        "- $w_1, w_2, \\ldots, w_n$ - веса (параметры) модели для каждого признака,\n",
        "- $x_1, x_2, \\ldots, x_n$ - входные признаки,\n",
        "- $b$ - смещение (bias).\n",
        "\n",
        "### Вычисление выхода линейной модели\n",
        "\n",
        "Для вычисления выхода линейной модели, просто подставьте значения признаков в уравнение, используя соответствующие веса и смещение. Матричная формула для вычисления выхода линейной модели для набора данных \\(X\\) выглядит следующим образом:\n",
        "\n",
        "$\\hat{Y} = X \\cdot \\mathbf{w} + b$\n",
        "\n",
        "где:\n",
        "- $\\hat{Y}$ - вектор прогнозов для всего набора данных,\n",
        "- $X$ - матрица признаков, где каждая строка представляет один образец, а столбцы - признаки,\n",
        "- $\\mathbf{w}$ - вектор весов модели,\n",
        "- $b$ - смещение (bias).\n",
        "\n",
        "### Обучение линейной модели\n",
        "\n",
        "Обучение линейной модели заключается в настройке параметров (весов и смещения) так, чтобы они наилучшим образом соответствовали обучающим данным. Одним из наиболее распространенных методов обучения линейной модели является градиентный спуск.\n",
        "\n",
        "### Градиентный спуск\n",
        "\n",
        "Градиентный спуск - это метод оптимизации, используемый для обновления параметров модели с целью минимизации функции потерь. Функция потерь оценивает, насколько хорошо модель предсказывает реальные значения на обучающих данных.\n",
        "\n",
        "Для линейной регрессии, часто используется среднеквадратичная ошибка (Mean Squared Error - MSE) в качестве функции потерь:\n",
        "\n",
        "$MSE = \\frac{1}{N} \\sum_{i=1}^{N} (y_i - \\hat{y}_i)^2$\n",
        "\n",
        "где:\n",
        "- $N$ - количество обучающих примеров,\n",
        "- $y_i$ - реальное значение для i-го примера,\n",
        "- $\\hat{y}_i$ - прогнозированное значение для i-го примера.\n",
        "\n",
        "### Корректировка весов модели\n",
        "\n",
        "Для обновления весов модели в методе градиентного спуска, используется градиент функции потерь по отношению к параметрам модели. Градиент показывает направление наибольшего увеличения функции потерь, поэтому мы двигаемся в противоположном направлении градиента, чтобы уменьшить потери. Формула для обновления весов выглядит следующим образом:\n",
        "\n",
        "$\\mathbf{w}_{\\text{новые}} = \\mathbf{w}_{\\text{старые}} - \\text{learning_rate} \\cdot \\nabla L$\n",
        "\n",
        "где:\n",
        "- $\\mathbf{w}_{\\text{новые}}$ - новые веса после обновления,\n",
        "- $\\mathbf{w}_{\\text{старые}}$ - текущие веса,\n",
        "- $\\text{learning_rate}$ - скорость обучения (коэффициент, контролирующий размер шага градиентного спуска),\n",
        "- $\\nabla L$ - градиент функции потерь по параметрам модели.\n",
        "\n",
        "Этот процесс повторяется до достижения сходимости или определенного числа итераций.\n",
        "\n",
        "## Классификатор на линейной модели\n",
        "\n",
        "На линейной модели можно построить и классификатор. Для этого нужно выход линейной модели отбразить в интервал от 0 до 1. В этом нам поможет логистическая функция:\n",
        "\n",
        "$\\sigma(z) = \\frac{1}{1 + e^{-z}}$\n",
        "\n",
        "Для обучения скорректируем функцию потерь. Нетрудно показать, что функция, называемая кросс-энтропией на самом деле соответствует максимизации правдоподобия (кстати, почитайте про правдоподобие), ниже представлено выражение для нее\n",
        "\n",
        "$BCE = -\\frac{1}{N} \\sum_{i=1}^{N} \\left(y_i \\log(\\hat{y}_i) + (1 - y_i) \\log(1 - \\hat{y}_i)\\right)$\n",
        "\n",
        "где:\n",
        "- $N$ - количество обучающих примеров,\n",
        "- $y_i$ - истинная метка класса (0 или 1) для i-го примера,\n",
        "- $\\hat{y}_i$ - вероятность принадлежности к классу 1 для i-го примера (выход сигмоидной функции).\n",
        "\n",
        "Будем считать, что модель относит объект к 1 классу, если ее выход $>=0.5$, иначе - 0 класс.\n",
        "\n",
        "## Как считать градиенты\n",
        "\n",
        "Приведу градиент для кросс-энтропии:\n",
        "\n",
        "$\\nabla_{\\mathbf{w}} \\text{BCE} = -\\frac{1}{N} \\mathbf{X}^T (\\mathbf{y} - \\hat{\\mathbf{y}})$\n",
        "\n",
        "Для MSE вычислить градиент самостоятельно"
      ]
    },
    {
      "cell_type": "code",
      "execution_count": 128,
      "id": "9a04ef46-22ed-49ba-a1d0-da06c40829b1",
      "metadata": {
        "tags": [],
        "id": "9a04ef46-22ed-49ba-a1d0-da06c40829b1"
      },
      "outputs": [],
      "source": [
        "import numpy as np\n",
        "import matplotlib.pyplot as plt\n",
        "\n",
        "\n",
        "class LinearModel:\n",
        "    def __init__(self, num_features):\n",
        "        self.num_features = num_features\n",
        "        self.weights = np.zeros(num_features)\n",
        "        self.bias = 0\n",
        "\n",
        "    def __call__(self, X):\n",
        "        return X\n",
        "\n",
        "\n",
        "class LinearRegressor(LinearModel):\n",
        "    def fit(self, X, y, learning_rate=0.01, epochs=100):\n",
        "        error_history = []\n",
        "        for _ in range(epochs):\n",
        "            predictions = self.predict(X)\n",
        "            error = y - predictions\n",
        "            gradient = (1/X.shape[0]) * np.dot(X.T, -error)\n",
        "            self.weights -= learning_rate * gradient\n",
        "            self.bias -= learning_rate * np.mean(error)\n",
        "            current_error = ((y - predictions) ** 2).sum()\n",
        "            error_history.append(current_error)\n",
        "        return error_history\n",
        "\n",
        "    def predict(self, X):\n",
        "        return np.dot(X, self.weights) + self.bias\n",
        "\n",
        "\n",
        "class LinearClassifier(LinearModel):\n",
        "    def fit(self, X, y, learning_rate=0.01, epochs=100):\n",
        "        error_history = []\n",
        "        for _ in range(epochs):\n",
        "            predictions = self.predict(X)\n",
        "            sigmoid = self.predict_proba(X)\n",
        "            error = y - sigmoid\n",
        "            gradient = (1/X.shape[0]) * np.dot(X.T, error)\n",
        "            self.weights -= learning_rate * gradient\n",
        "            self.bias -= learning_rate * np.mean(error)\n",
        "            current_error = -np.mean(y * np.log(sigmoid) + (1 - y) * np.log(1 - sigmoid))\n",
        "            error_history.append(current_error)\n",
        "        return error_history\n",
        "\n",
        "    def predict(self, X):\n",
        "        predictions = np.dot(X, self.weights) + self.bias\n",
        "        sigmoid = 1/(1+np.exp(predictions))\n",
        "        return np.round(sigmoid)\n",
        "\n",
        "    def predict_proba(self, X):\n",
        "        predictions = np.dot(X, self.weights) + self.bias\n",
        "        sigmoid = 1/(1+np.exp(predictions))\n",
        "        return sigmoid"
      ]
    },
    {
      "cell_type": "markdown",
      "id": "6e0bb8fc-ec29-4cd7-a693-ac77b0a46cff",
      "metadata": {
        "id": "6e0bb8fc-ec29-4cd7-a693-ac77b0a46cff"
      },
      "source": [
        "## Проверьте модели на данных\n",
        "\n",
        "### Линейная модель\n",
        "\n",
        "#### Description:\n",
        "The Student Performance Dataset is a dataset designed to examine the factors influencing academic student performance. The dataset consists of 10,000 student records, with each record containing information about various predictors and a performance index.\n",
        "\n",
        "#### Variables:\n",
        "- Hours Studied: The total number of hours spent studying by each student.\n",
        "- Previous Scores: The scores obtained by students in previous tests.\n",
        "- Extracurricular Activities: Whether the student participates in extracurricular activities (Yes or No).\n",
        "- Sleep Hours: The average number of hours of sleep the student had per day.\n",
        "- Sample Question Papers Practiced: The number of sample question papers the student practiced.\n",
        "\n",
        "#### Target Variable:\n",
        "\n",
        "- Performance Index: A measure of the overall performance of each student. The performance index represents the student's academic performance and has been rounded to the nearest integer. The index ranges from 10 to 100, with higher values indicating better performance."
      ]
    },
    {
      "cell_type": "code",
      "execution_count": 129,
      "id": "47687e94-a2d2-4c25-8d48-54d13d621fb8",
      "metadata": {
        "tags": [],
        "id": "47687e94-a2d2-4c25-8d48-54d13d621fb8"
      },
      "outputs": [],
      "source": [
        "import pandas as pd"
      ]
    },
    {
      "cell_type": "code",
      "execution_count": 130,
      "id": "031d71d4-ceeb-4611-8a43-7012308a19e6",
      "metadata": {
        "tags": [],
        "id": "031d71d4-ceeb-4611-8a43-7012308a19e6",
        "colab": {
          "base_uri": "https://localhost:8080/"
        },
        "outputId": "ad78d6e4-1585-497d-9588-4cbdbf4fb5ee"
      },
      "outputs": [
        {
          "output_type": "stream",
          "name": "stdout",
          "text": [
            "   Hours Studied  Previous Scores Extracurricular Activities  Sleep Hours  \\\n",
            "0              7               99                        Yes            9   \n",
            "1              4               82                         No            4   \n",
            "2              8               51                        Yes            7   \n",
            "3              5               52                        Yes            5   \n",
            "4              7               75                         No            8   \n",
            "\n",
            "   Sample Question Papers Practiced  Performance Index  \n",
            "0                                 1               91.0  \n",
            "1                                 2               65.0  \n",
            "2                                 2               45.0  \n",
            "3                                 2               36.0  \n",
            "4                                 5               66.0  \n"
          ]
        }
      ],
      "source": [
        "data = pd.read_csv('Student_Performance.csv')\n",
        "print(data.head())\n",
        "\n",
        "Y = data['Performance Index']\n",
        "X = data.drop(['Performance Index'], axis=1)\n",
        "X['Extracurricular Activities'] = X['Extracurricular Activities'].replace({'Yes': 1, 'No': 0})\n",
        "X = X.to_numpy()"
      ]
    },
    {
      "cell_type": "code",
      "execution_count": 131,
      "id": "c5a2ec08-17d8-4e11-9f20-b2ccd9a9f760",
      "metadata": {
        "tags": [],
        "id": "c5a2ec08-17d8-4e11-9f20-b2ccd9a9f760"
      },
      "outputs": [],
      "source": [
        "# Вычислите среднее по столбцам.\n",
        "mean = X.mean()\n",
        "\n",
        "# Вычислите стандартное отклонение по столбцам.\n",
        "std = X.std()\n",
        "# Нормализуйте данные по столбцам (стандартное масштабирование).\n",
        "normalized_X = (X - mean) / std\n",
        "\n",
        "# Нормализуйте и выходные данные\n",
        "normalized_Y = (Y - Y.mean()) / Y.std()"
      ]
    },
    {
      "cell_type": "code",
      "execution_count": 132,
      "id": "e5c8fdd2-2f45-4765-900a-a0d949c8d96f",
      "metadata": {
        "tags": [],
        "id": "e5c8fdd2-2f45-4765-900a-a0d949c8d96f"
      },
      "outputs": [],
      "source": [
        "lr = LinearRegressor(num_features=X.shape[1])\n",
        "history = lr.fit(normalized_X, normalized_Y)"
      ]
    },
    {
      "cell_type": "code",
      "execution_count": 133,
      "id": "c5f2b9d0-6210-4107-8c47-1893ded1cdb1",
      "metadata": {
        "tags": [],
        "id": "c5f2b9d0-6210-4107-8c47-1893ded1cdb1",
        "colab": {
          "base_uri": "https://localhost:8080/",
          "height": 472
        },
        "outputId": "1ea039ea-f54b-4c1c-e77d-bdc28945526d"
      },
      "outputs": [
        {
          "output_type": "display_data",
          "data": {
            "text/plain": [
              "<Figure size 640x480 with 1 Axes>"
            ],
            "image/png": "[encoded data removed]"
          },
          "metadata": {}
        }
      ],
      "source": [
        "epochs = range(1, len(history) + 1)\n",
        "\n",
        "# Постройте график обучения.\n",
        "plt.plot(epochs, history, 'b', label='MSE')\n",
        "plt.title('График обучения')\n",
        "plt.xlabel('Эпохи')\n",
        "plt.ylabel('MSE')\n",
        "plt.legend()\n",
        "\n",
        "# Отобразите график.\n",
        "plt.show()"
      ]
    },
    {
      "cell_type": "markdown",
      "id": "1e91f08e-3089-4464-9763-27fef0a1a74a",
      "metadata": {
        "id": "1e91f08e-3089-4464-9763-27fef0a1a74a"
      },
      "source": [
        "### Классификатор\n",
        "#### Context\n",
        "When a bank receives a loan application, based on the applicant’s profile the bank has to make a decision regarding whether to go ahead with the loan approval or not. Two types of risks are associated with the bank’s decision.\"\n",
        "\n",
        "\"If the applicant is a good credit risk, i.e. is likely to repay the loan, then not approving the loan to the person results in a loss of business to the bank\n",
        "If the applicant is a bad credit risk, i.e. is not likely to repay the loan, then approving the loan to the person results in a financial loss to the bank.\"\n",
        "\n",
        "The predictors that may potentially have any influence on Creditability:\n",
        "\n",
        "Account Balance: No account (1), None (No balance) (2), Some Balance (3)\n",
        "\n",
        "Payment Status: Some Problems (1), Paid Up (2), No Problems (in this bank) (3)\n",
        "\n",
        "Savings/Stock Value: None, Below 100 DM, [100, 1000] DM, Above 1000 DM\n",
        "\n",
        "Employment Length: Below 1 year (including unemployed), [1, 4), [4, 7), Above 7\n",
        "\n",
        "Sex/Marital Status: Male Divorced/Single, Male Married/Widowed, Female\n",
        "\n",
        "No of Credits at this bank: 1, More than 1\n",
        "\n",
        "Guarantor: None, Yes\n",
        "\n",
        "Concurrent Credits: Other Banks or Dept Stores, None\n",
        "\n",
        "ForeignWorker variable may be dropped from the study\n",
        "\n",
        "Purpose of Credit: New car, Used car, Home Related, Other"
      ]
    },
    {
      "cell_type": "code",
      "execution_count": 122,
      "id": "ffcd3871-36fb-4cf4-8178-7f8e267909a1",
      "metadata": {
        "tags": [],
        "id": "ffcd3871-36fb-4cf4-8178-7f8e267909a1",
        "colab": {
          "base_uri": "https://localhost:8080/"
        },
        "outputId": "e5e3b232-49a8-4fb2-b18f-db132677d549"
      },
      "outputs": [
        {
          "output_type": "stream",
          "name": "stdout",
          "text": [
            "   Creditability  Account_Balance  Duration_of_Credit_monthly  \\\n",
            "0              1                1                          18   \n",
            "1              1                1                           9   \n",
            "2              1                2                          12   \n",
            "3              1                1                          12   \n",
            "4              1                1                          12   \n",
            "\n",
            "   Payment_Status_of_Previous_Credit  Purpose  Credit_Amount  \\\n",
            "0                                  4        2           1049   \n",
            "1                                  4        0           2799   \n",
            "2                                  2        9            841   \n",
            "3                                  4        0           2122   \n",
            "4                                  4        0           2171   \n",
            "\n",
            "   Value_Savings_Stocks  Length_of_current_employment  Instalment_per_cent  \\\n",
            "0                     1                             2                    4   \n",
            "1                     1                             3                    2   \n",
            "2                     2                             4                    2   \n",
            "3                     1                             3                    3   \n",
            "4                     1                             3                    4   \n",
            "\n",
            "   Sex_Marital_Status  ...  Duration_in_Current_address  \\\n",
            "0                   2  ...                            4   \n",
            "1                   3  ...                            2   \n",
            "2                   2  ...                            4   \n",
            "3                   3  ...                            2   \n",
            "4                   3  ...                            4   \n",
            "\n",
            "   Most_valuable_available_asset  Age_years  Concurrent_Credits  \\\n",
            "0                              2         21                   3   \n",
            "1                              1         36                   3   \n",
            "2                              1         23                   3   \n",
            "3                              1         39                   3   \n",
            "4                              2         38                   1   \n",
            "\n",
            "   Type_of_apartment  No_of_Credits_at_this_Bank  Occupation  \\\n",
            "0                  1                           1           3   \n",
            "1                  1                           2           3   \n",
            "2                  1                           1           2   \n",
            "3                  1                           2           2   \n",
            "4                  2                           2           2   \n",
            "\n",
            "   No_of_dependents  Telephone  Foreign_Worker  \n",
            "0                 1          1               1  \n",
            "1                 2          1               1  \n",
            "2                 1          1               1  \n",
            "3                 2          1               2  \n",
            "4                 1          1               2  \n",
            "\n",
            "[5 rows x 21 columns]\n"
          ]
        }
      ],
      "source": [
        "data = pd.read_csv('german.csv', sep=';')\n",
        "print(data.head())\n",
        "Y = data['Creditability']\n",
        "X = data[['Account_Balance', 'Payment_Status_of_Previous_Credit', 'Value_Savings_Stocks', 'Length_of_current_employment', 'Sex_Marital_Status', 'No_of_Credits_at_this_Bank', 'Guarantors', 'Concurrent_Credits', 'Purpose']]"
      ]
    },
    {
      "cell_type": "code",
      "execution_count": 123,
      "id": "3f5185da-6c3a-4a4e-aece-10f028d70695",
      "metadata": {
        "tags": [],
        "id": "3f5185da-6c3a-4a4e-aece-10f028d70695",
        "colab": {
          "base_uri": "https://localhost:8080/"
        },
        "outputId": "7d7ee3d9-e386-4391-cccc-ec1c5506a66f"
      },
      "outputs": [
        {
          "output_type": "stream",
          "name": "stdout",
          "text": [
            "       Creditability  Account_Balance  Duration_of_Credit_monthly  \\\n",
            "count    1000.000000      1000.000000                 1000.000000   \n",
            "mean        0.700000         2.577000                   20.903000   \n",
            "std         0.458487         1.257638                   12.058814   \n",
            "min         0.000000         1.000000                    4.000000   \n",
            "25%         0.000000         1.000000                   12.000000   \n",
            "50%         1.000000         2.000000                   18.000000   \n",
            "75%         1.000000         4.000000                   24.000000   \n",
            "max         1.000000         4.000000                   72.000000   \n",
            "\n",
            "       Payment_Status_of_Previous_Credit      Purpose  Credit_Amount  \\\n",
            "count                         1000.00000  1000.000000     1000.00000   \n",
            "mean                             2.54500     2.828000     3271.24800   \n",
            "std                              1.08312     2.744439     2822.75176   \n",
            "min                              0.00000     0.000000      250.00000   \n",
            "25%                              2.00000     1.000000     1365.50000   \n",
            "50%                              2.00000     2.000000     2319.50000   \n",
            "75%                              4.00000     3.000000     3972.25000   \n",
            "max                              4.00000    10.000000    18424.00000   \n",
            "\n",
            "       Value_Savings_Stocks  Length_of_current_employment  \\\n",
            "count           1000.000000                   1000.000000   \n",
            "mean               2.105000                      3.384000   \n",
            "std                1.580023                      1.208306   \n",
            "min                1.000000                      1.000000   \n",
            "25%                1.000000                      3.000000   \n",
            "50%                1.000000                      3.000000   \n",
            "75%                3.000000                      5.000000   \n",
            "max                5.000000                      5.000000   \n",
            "\n",
            "       Instalment_per_cent  Sex_Marital_Status  ...  \\\n",
            "count          1000.000000          1000.00000  ...   \n",
            "mean              2.973000             2.68200  ...   \n",
            "std               1.118715             0.70808  ...   \n",
            "min               1.000000             1.00000  ...   \n",
            "25%               2.000000             2.00000  ...   \n",
            "50%               3.000000             3.00000  ...   \n",
            "75%               4.000000             3.00000  ...   \n",
            "max               4.000000             4.00000  ...   \n",
            "\n",
            "       Duration_in_Current_address  Most_valuable_available_asset   Age_years  \\\n",
            "count                  1000.000000                    1000.000000  1000.00000   \n",
            "mean                      2.845000                       2.358000    35.54200   \n",
            "std                       1.103718                       1.050209    11.35267   \n",
            "min                       1.000000                       1.000000    19.00000   \n",
            "25%                       2.000000                       1.000000    27.00000   \n",
            "50%                       3.000000                       2.000000    33.00000   \n",
            "75%                       4.000000                       3.000000    42.00000   \n",
            "max                       4.000000                       4.000000    75.00000   \n",
            "\n",
            "       Concurrent_Credits  Type_of_apartment  No_of_Credits_at_this_Bank  \\\n",
            "count         1000.000000        1000.000000                 1000.000000   \n",
            "mean             2.675000           1.928000                    1.407000   \n",
            "std              0.705601           0.530186                    0.577654   \n",
            "min              1.000000           1.000000                    1.000000   \n",
            "25%              3.000000           2.000000                    1.000000   \n",
            "50%              3.000000           2.000000                    1.000000   \n",
            "75%              3.000000           2.000000                    2.000000   \n",
            "max              3.000000           3.000000                    4.000000   \n",
            "\n",
            "        Occupation  No_of_dependents    Telephone  Foreign_Worker  \n",
            "count  1000.000000       1000.000000  1000.000000     1000.000000  \n",
            "mean      2.904000          1.155000     1.404000        1.037000  \n",
            "std       0.653614          0.362086     0.490943        0.188856  \n",
            "min       1.000000          1.000000     1.000000        1.000000  \n",
            "25%       3.000000          1.000000     1.000000        1.000000  \n",
            "50%       3.000000          1.000000     1.000000        1.000000  \n",
            "75%       3.000000          1.000000     2.000000        1.000000  \n",
            "max       4.000000          2.000000     2.000000        2.000000  \n",
            "\n",
            "[8 rows x 21 columns]\n"
          ]
        }
      ],
      "source": [
        "print(data.describe())"
      ]
    },
    {
      "cell_type": "code",
      "execution_count": 124,
      "id": "f5cc712a-7d9b-4121-af7a-f5107b5d95b4",
      "metadata": {
        "tags": [],
        "id": "f5cc712a-7d9b-4121-af7a-f5107b5d95b4"
      },
      "outputs": [],
      "source": [
        "# Вычислите среднее по столбцам.\n",
        "mean = X.mean()\n",
        "\n",
        "# Вычислите стандартное отклонение по столбцам.\n",
        "std = X.std()\n",
        "\n",
        "# Нормализуйте данные по столбцам (стандартное масштабирование).\n",
        "normalized_X = (X - mean) / std"
      ]
    },
    {
      "cell_type": "code",
      "execution_count": 125,
      "id": "37c38a96-4e7d-46f1-8d11-031e3c6e7924",
      "metadata": {
        "tags": [],
        "id": "37c38a96-4e7d-46f1-8d11-031e3c6e7924"
      },
      "outputs": [],
      "source": [
        "lc = LinearClassifier(num_features=X.shape[1])\n",
        "history = lc.fit(normalized_X, Y)"
      ]
    },
    {
      "cell_type": "code",
      "execution_count": 126,
      "id": "764abb9b-2fc3-4859-be34-06099840a914",
      "metadata": {
        "tags": [],
        "id": "764abb9b-2fc3-4859-be34-06099840a914",
        "colab": {
          "base_uri": "https://localhost:8080/",
          "height": 472
        },
        "outputId": "0f30a381-d9ae-4bc6-c284-d7062bc5c24d"
      },
      "outputs": [
        {
          "output_type": "display_data",
          "data": {
            "text/plain": [
              "<Figure size 640x480 with 1 Axes>"
            ],
            "image/png": "[encoded data removed]"
          },
          "metadata": {}
        }
      ],
      "source": [
        "epochs = range(1, len(history) + 1)\n",
        "\n",
        "# Постройте график обучения.\n",
        "plt.plot(epochs, history, 'b', label='BCE')\n",
        "plt.title('График обучения')\n",
        "plt.xlabel('Эпохи')\n",
        "plt.ylabel('BCE')\n",
        "plt.legend()\n",
        "\n",
        "# Отобразите график.\n",
        "plt.show()"
      ]
    },
    {
      "cell_type": "code",
      "execution_count": 127,
      "id": "0fb2e181-a6c8-429d-bd55-2d8645c193a4",
      "metadata": {
        "tags": [],
        "id": "0fb2e181-a6c8-429d-bd55-2d8645c193a4",
        "colab": {
          "base_uri": "https://localhost:8080/"
        },
        "outputId": "ca930237-7192-4d1c-8a14-33fdd097ea39"
      },
      "outputs": [
        {
          "output_type": "stream",
          "name": "stdout",
          "text": [
            "accuracy:  0.745\n",
            "ROC-AUC:  0.6932549379780121\n",
            "Precision:  0.86\n",
            "Recall:  0.7931488801054019\n",
            "F1:  0.8252227553118575\n"
          ]
        }
      ],
      "source": [
        "from sklearn.metrics import roc_auc_score, precision_score, recall_score, f1_score\n",
        "pred = lc.predict(normalized_X)\n",
        "print('accuracy: ', (pred == Y).sum() / len(Y))\n",
        "print('ROC-AUC: ', roc_auc_score(pred, Y))\n",
        "print('Precision: ', precision_score(pred, Y))\n",
        "print('Recall: ', recall_score(pred, Y))\n",
        "print('F1: ', f1_score(pred, Y))"
      ]
    },
    {
      "cell_type": "markdown",
      "id": "ee311e77-efda-4f2f-bd13-308822206894",
      "metadata": {
        "id": "ee311e77-efda-4f2f-bd13-308822206894"
      },
      "source": [
        "Вычислите для этой модели ROC-AUC, precision, recall и f1"
      ]
    }
  ],
  "metadata": {
    "kernelspec": {
      "display_name": "Python 3 (ipykernel)",
      "language": "python",
      "name": "python3"
    },
    "language_info": {
      "codemirror_mode": {
        "name": "ipython",
        "version": 3
      },
      "file_extension": ".py",
      "mimetype": "text/x-python",
      "name": "python",
      "nbconvert_exporter": "python",
      "pygments_lexer": "ipython3",
      "version": "3.9.7"
    },
    "colab": {
      "provenance": []
    }
  },
  "nbformat": 4,
  "nbformat_minor": 5
}